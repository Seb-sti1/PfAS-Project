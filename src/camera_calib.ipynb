{
 "cells": [
  {
   "cell_type": "code",
   "execution_count": 5,
   "id": "7717d8b5-7b40-4df2-8773-d9c60aa8bd7a",
   "metadata": {},
   "outputs": [
    {
     "name": "stdout",
     "output_type": "stream",
     "text": [
      "False\n",
      "False\n",
      "True\n",
      "False\n",
      "True\n",
      "True\n",
      "True\n",
      "False\n",
      "True\n",
      "False\n",
      "False\n",
      "False\n",
      "False\n",
      "False\n",
      "False\n",
      "True\n",
      "False\n",
      "False\n",
      "True\n",
      "False\n",
      "[[925.46399921   0.         702.67649158]\n",
      " [  0.         938.19886469 259.91296361]\n",
      " [  0.           0.           1.        ]]\n",
      "[[-0.36083455  0.14103106 -0.00837877  0.0040671   0.00562791]]\n",
      "[[718.43747875   0.         715.99732372]\n",
      " [  0.         724.66275642 249.06192071]\n",
      " [  0.           0.           1.        ]]\n",
      "(15, 44, 1359, 406)\n"
     ]
    },
    {
     "data": {
      "text/plain": [
       "<Figure size 640x480 with 0 Axes>"
      ]
     },
     "metadata": {},
     "output_type": "display_data"
    }
   ],
   "source": [
    "import glob\n",
    "\n",
    "import cv2\n",
    "import numpy as np\n",
    "from matplotlib import pyplot as plt\n",
    "\n",
    "plt.gray()\n",
    "\n",
    "SQUARE_SIZE = 99.5  #mm\n",
    "nb_vertical = 5\n",
    "nb_horizontal = 7\n",
    "\n",
    "\n",
    "def calibration(images: list[str]):\n",
    "    # prepare object points, like (0,0,0), (1,0,0), (2,0,0) ....,(6,5,0)\n",
    "    objp = np.zeros((nb_horizontal * nb_vertical, 3), np.float32)\n",
    "    objp[:, :2] = np.mgrid[0:nb_vertical, 0:nb_horizontal].T.reshape(-1, 2)\n",
    "\n",
    "    # Arrays to store object points and image points from all the images.\n",
    "    objpoints = []  # 3d point in real world space\n",
    "    imgpoints = []  # 2d points in image plane.\n",
    "\n",
    "    for fname in images:\n",
    "        img = cv2.imread(fname)\n",
    "        gray = cv2.cvtColor(img, cv2.COLOR_BGR2GRAY)\n",
    "\n",
    "        ret, corners = cv2.findChessboardCorners(gray, (nb_vertical, nb_horizontal))\n",
    "        \n",
    "        print(ret)\n",
    "        \n",
    "        # If found, add object points, image points (after refining them)\n",
    "        if ret:\n",
    "            objpoints.append(objp)\n",
    "            imgpoints.append(corners)\n",
    "            # Draw and display the corners\n",
    "            cv2.drawChessboardCorners(img, (nb_vertical, nb_horizontal), corners, ret)\n",
    "        \n",
    "    ret, mtx, dist, rvecs, tvecs = cv2.calibrateCamera(objpoints, imgpoints, gray.shape[::-1], None, None)\n",
    "    return mtx, dist\n",
    "\n",
    "\n",
    "def undistorted(images: list[str], mtx, dist):\n",
    "    undistorted_images = []\n",
    "    for fname in images:\n",
    "        img = cv2.imread(fname)\n",
    "        h, w = img.shape[:2]\n",
    "        newcameramtx, roi = cv2.getOptimalNewCameraMatrix(mtx, dist, (w, h), 1, (w, h))\n",
    "        dst = cv2.undistort(img, mtx, dist, None, newcameramtx)\n",
    "        x, y, w, h = roi\n",
    "        undistorted_images.append(dst[y:y + h, x:x + w])\n",
    "    return undistorted_images\n",
    "\n",
    "left_images = glob.glob('rspaint/left/*.png')\n",
    "right_images = glob.glob('rspaint/right/*.png')\n",
    "mtx, dist = calibration(left_images + right_images)\n",
    "\n",
    "sizeimg = cv2.imread('left3.png')\n",
    "\n",
    "left_undistorted_images = undistorted(left_images, mtx, dist)\n",
    "right_undistorted_images = undistorted(right_images, mtx, dist)\n",
    "\n",
    "results = []\n",
    "print(mtx)\n",
    "print(dist)\n",
    "\n",
    "\n",
    "h,  w = sizeimg.shape[:2]\n",
    "newcameramtx, roi = cv2.getOptimalNewCameraMatrix(mtx,dist,(w,h),1,(w,h))\n",
    "\n",
    "print(newcameramtx)\n",
    "print(roi)"
   ]
  }
 ],
 "metadata": {
  "kernelspec": {
   "display_name": "Python 3 (ipykernel)",
   "language": "python",
   "name": "python3"
  },
  "language_info": {
   "codemirror_mode": {
    "name": "ipython",
    "version": 3
   },
   "file_extension": ".py",
   "mimetype": "text/x-python",
   "name": "python",
   "nbconvert_exporter": "python",
   "pygments_lexer": "ipython3",
   "version": "3.10.14"
  }
 },
 "nbformat": 4,
 "nbformat_minor": 5
}
